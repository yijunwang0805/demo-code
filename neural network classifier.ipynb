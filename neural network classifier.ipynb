{
 "cells": [
  {
   "cell_type": "code",
   "execution_count": null,
   "metadata": {},
   "outputs": [],
   "source": [
    "class Net(nn.Module):\n",
    "    def __init__(self, D_in: int, hidden: int, D_out: int, num_tasks: int, dropout=0.1):\n",
    "        '''\n",
    "        D_in (int): input dimension\n",
    "        hidden (int): number of hidden layers\n",
    "        D_out (int): output dimension or the number of classes\n",
    "        num_tasks (int): number of tasks to predict\n",
    "        dropout (float): percentage of neurons to be masked\n",
    "        '''\n",
    "        super().__init__()\n",
    "        self.num_tasks = num_tasks\n",
    "        self.bottlenet = nn.Linear(D_in, hidden)\n",
    "        self.layers = nn.ModuleList([nn.Linear(hidden, D_out) for i in range(num_tasks)])\n",
    "        self.dropout = nn.Dropout(dropout)\n",
    "        \n",
    "    def forward(self, x):\n",
    "        yhat = torch.tensor([])\n",
    "        x = self.dropout(self.bottlenet(x))\n",
    "        for task in self.layers:\n",
    "            y = torch.sigmoid(self.dropout(F.relu(task(x))))\n",
    "            yhat = torch.cat((yhat, y), 1)\n",
    "        return yhat\n",
    "    \n",
    "model = Net(D_in, hidden, D_out, num_tasks, dropout)\n",
    "optimizer = torch.optim.SGD(model.parameters(), lr=learning_rate)\n",
    "\n",
    "def criterion(yhat, y):\n",
    "    mask = [y != -1]\n",
    "    y, yhat = y[mask], yhat[mask]\n",
    "    criterion = nn.BCEWithLogitsLoss()\n",
    "    loss = criterion(yhat, y)\n",
    "    return loss\n",
    "\n",
    "from torch_lr_finder import LRFinder\n",
    "lr_finder = LRFinder(model, optimizer, criterion)\n",
    "lr_finder.range_test(train_loader, start_lr = 0.0001, end_lr=0.03, num_iter=100)\n",
    "lr_finder.plot(suggest_lr=True) # to inspect the loss-learning rate graph\n",
    "lr_finder.reset() # to reset the model and optimizer to their initial state."
   ]
  }
 ],
 "metadata": {
  "kernelspec": {
   "display_name": "Python 3",
   "language": "python",
   "name": "python3"
  },
  "language_info": {
   "codemirror_mode": {
    "name": "ipython",
    "version": 3
   },
   "file_extension": ".py",
   "mimetype": "text/x-python",
   "name": "python",
   "nbconvert_exporter": "python",
   "pygments_lexer": "ipython3",
   "version": "3.7.4"
  }
 },
 "nbformat": 4,
 "nbformat_minor": 2
}
